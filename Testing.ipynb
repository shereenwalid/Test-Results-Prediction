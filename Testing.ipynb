{
 "cells": [
  {
   "cell_type": "code",
   "execution_count": 1,
   "id": "29fa6d19",
   "metadata": {},
   "outputs": [],
   "source": [
    "import pandas as pd\n",
    "import numpy as np\n",
    "from sklearn.preprocessing import LabelEncoder\n",
    "from sklearn.preprocessing import MinMaxScaler\n",
    "\n",
    "# plotting \n",
    "import seaborn as sns\n",
    "import matplotlib.pyplot as plt\n",
    "import plotly.express as px\n",
    "import plotly.graph_objects as go\n",
    "\n",
    "\n",
    "# Feature selection\n",
    "from sklearn.feature_selection import mutual_info_classif\n",
    "import scipy.stats as stats\n",
    "\n",
    "\n",
    "# Evaluation\n",
    "from sklearn.metrics import accuracy_score, confusion_matrix, precision_score, recall_score, f1_score\n",
    "from sklearn.metrics import classification_report\n",
    "from sklearn.preprocessing import StandardScaler\n",
    "\n",
    "# Models loading\n",
    "import joblib"
   ]
  },
  {
   "cell_type": "code",
   "execution_count": 2,
   "id": "d5b4dcbe",
   "metadata": {},
   "outputs": [],
   "source": [
    "df = pd.read_excel(\"Dataset/student_helthcare_dataset_test.xlsx\")"
   ]
  },
  {
   "cell_type": "markdown",
   "id": "44e0c154",
   "metadata": {},
   "source": [
    "### Preprocessors and Models loading"
   ]
  },
  {
   "cell_type": "code",
   "execution_count": 3,
   "id": "6ccf6483",
   "metadata": {},
   "outputs": [],
   "source": [
    "scaler = joblib.load('scaler.pkl')\n",
    "svm_model = joblib.load('svm_model.pkl')\n",
    "DT_model = joblib.load('DT_model.pkl')\n",
    "LR_model =  joblib.load('LR_model.pkl')\n",
    "encoder = joblib.load('encoder.pkl')"
   ]
  },
  {
   "cell_type": "markdown",
   "id": "4a233c2f",
   "metadata": {},
   "source": [
    "### Functions"
   ]
  },
  {
   "cell_type": "code",
   "execution_count": 4,
   "id": "ef10f74e",
   "metadata": {},
   "outputs": [],
   "source": [
    "def ConvertAgerange(agesinyears):\n",
    "    '''\n",
    "    Converts ages in years to age ranges\n",
    "    \n",
    "    Args:\n",
    "    - agesinyears (int): Age in years\n",
    "    \n",
    "    Returns:\n",
    "    - str: Age range (child, adolescent, adult, elder)\n",
    "    '''\n",
    "    if agesinyears < 12:\n",
    "        return 'Child'\n",
    "    elif agesinyears < 20:  \n",
    "        return 'Adolescent'\n",
    "    elif agesinyears < 60: \n",
    "        return 'Adult'\n",
    "    else:\n",
    "        return 'Elder'"
   ]
  },
  {
   "cell_type": "code",
   "execution_count": 5,
   "id": "4660d8a1",
   "metadata": {},
   "outputs": [],
   "source": [
    "def categorize_billing_amount(amount):\n",
    "    \"\"\"\n",
    "    Categorize billing amount into ranges (low, medium, high).\n",
    "\n",
    "    Args:\n",
    "        amount (float): Billing amount.\n",
    "\n",
    "    Returns:\n",
    "        str: Category (low, medium, high).\n",
    "    \"\"\"\n",
    "    if amount < 5000:\n",
    "        return 'Low'\n",
    "    elif 5000 <= amount < 15000:\n",
    "        return 'Medium'\n",
    "    else:\n",
    "        return 'High'\n"
   ]
  },
  {
   "cell_type": "code",
   "execution_count": 6,
   "id": "477f5340",
   "metadata": {},
   "outputs": [],
   "source": [
    "def handle_outlier(col, threshold=1.5):\n",
    "    '''\n",
    "    Function that gets maximum and minimum values for the provided column\n",
    "    \n",
    "    Args:\n",
    "        col (pandas.Series): Column name\n",
    "        threshold (float): Threshold value for defining outliers\n",
    "    \n",
    "    Returns:\n",
    "        tuple: The lower and upper bounds for outliers\n",
    "    '''\n",
    "    Q1, Q3 = col.quantile([0.25, 0.75])\n",
    "    IQR = Q3 - Q1\n",
    "    lower = max(0, Q1 - (threshold * IQR))\n",
    "    upper = Q3 + (threshold * IQR)\n",
    "    return lower, upper"
   ]
  },
  {
   "cell_type": "markdown",
   "id": "2ce19402",
   "metadata": {},
   "source": [
    "### Renaming and feature extraction"
   ]
  },
  {
   "cell_type": "code",
   "execution_count": 7,
   "id": "eff3087f",
   "metadata": {},
   "outputs": [],
   "source": [
    "df.rename(columns={\n",
    "    'Medical Condition': 'Medical_Condition',\n",
    "    'Insurance Provider': 'Insurance_Provider',\n",
    "    'Blood Type': 'Blood_Type',\n",
    "    'Billing Amount': 'Billing_Amount',\n",
    "    'Room Number': 'Room_Number',\n",
    "    'Admission Type': 'Admission_Type',\n",
    "    'Test Results': 'Test_Results'}, inplace=True)\n",
    "df.rename(columns={'Date of Admission': 'Date_of_Admission', 'Discharge Date': 'Discharge_Date'}, inplace=True)"
   ]
  },
  {
   "cell_type": "code",
   "execution_count": 8,
   "id": "167ce812",
   "metadata": {},
   "outputs": [],
   "source": [
    "df.insert(2,\"AgeRange\",np.nan, True)\n",
    "df.insert(11,\"BillingRange\",np.nan, True)"
   ]
  },
  {
   "cell_type": "code",
   "execution_count": 9,
   "id": "34cb35d0",
   "metadata": {},
   "outputs": [],
   "source": [
    "df['AgeRange'] = df['Age'].apply(ConvertAgerange)\n",
    "df['BillingRange'] = df['Billing_Amount'].apply(categorize_billing_amount)"
   ]
  },
  {
   "cell_type": "markdown",
   "id": "5819140c",
   "metadata": {},
   "source": [
    "### Handling outliers nulls & duplicates"
   ]
  },
  {
   "cell_type": "code",
   "execution_count": 10,
   "id": "d40a9c67",
   "metadata": {},
   "outputs": [],
   "source": [
    "df['Billing_Amount'] = df['Billing_Amount'].round().astype(int)\n",
    "# Modify the column in-place\n",
    "df['Billing_Amount'] = df['Billing_Amount'].apply(lambda x: -x if x < 0 else x)\n",
    "minimum, maximum = handle_outlier(df['Billing_Amount'])\n",
    "# Replace values above the upper bound with the maximum value and values below the lower bound with the minimum value\n",
    "df['Billing_Amount'] = np.where(df['Billing_Amount'] < minimum, minimum, df['Billing_Amount'])\n",
    "df['Billing_Amount'] = np.where(df['Billing_Amount'] > maximum, maximum, df['Billing_Amount'])"
   ]
  },
  {
   "cell_type": "code",
   "execution_count": 11,
   "id": "e75195cb",
   "metadata": {},
   "outputs": [],
   "source": [
    "df['Billing_Amount'] = np.where(df['Billing_Amount'] == 0 , df['Billing_Amount'].mean(), df['Billing_Amount'])"
   ]
  },
  {
   "cell_type": "code",
   "execution_count": 12,
   "id": "311b648c",
   "metadata": {},
   "outputs": [],
   "source": [
    "df['Room_Number'] = df['Room_Number'].apply(lambda x: -x if x < 0 else x)"
   ]
  },
  {
   "cell_type": "code",
   "execution_count": 13,
   "id": "1565cea6",
   "metadata": {},
   "outputs": [],
   "source": [
    "# Fill null values with the most common medication for each medical condition\n",
    "df['Medication'] = df['Medication'].fillna(df.groupby('Medical_Condition')['Medication'].transform(lambda x: x.mode().iloc[0]))"
   ]
  },
  {
   "cell_type": "code",
   "execution_count": 14,
   "id": "4ac65780",
   "metadata": {},
   "outputs": [],
   "source": [
    "df.dropna(subset=['Medical_Condition'], inplace=True)"
   ]
  },
  {
   "cell_type": "code",
   "execution_count": 15,
   "id": "cd66132e",
   "metadata": {},
   "outputs": [
    {
     "data": {
      "text/plain": [
       "Name                  0\n",
       "Age                   0\n",
       "AgeRange              0\n",
       "Gender                0\n",
       "Blood_Type            0\n",
       "Medical_Condition     0\n",
       "Date_of_Admission     0\n",
       "Doctor                0\n",
       "Hospital              0\n",
       "Insurance_Provider    0\n",
       "Billing_Amount        0\n",
       "BillingRange          0\n",
       "Room_Number           0\n",
       "Admission_Type        0\n",
       "Discharge_Date        0\n",
       "Medication            0\n",
       "Test_Results          0\n",
       "dtype: int64"
      ]
     },
     "execution_count": 15,
     "metadata": {},
     "output_type": "execute_result"
    }
   ],
   "source": [
    "df.isnull().sum()"
   ]
  },
  {
   "cell_type": "code",
   "execution_count": 16,
   "id": "6891b1fc",
   "metadata": {},
   "outputs": [
    {
     "data": {
      "text/plain": [
       "0"
      ]
     },
     "execution_count": 16,
     "metadata": {},
     "output_type": "execute_result"
    }
   ],
   "source": [
    "df.duplicated().sum()"
   ]
  },
  {
   "cell_type": "code",
   "execution_count": 17,
   "id": "9845fb97",
   "metadata": {},
   "outputs": [],
   "source": [
    "df['Date_of_Admission'] = pd.to_datetime(df.Date_of_Admission)\n",
    "df['Discharge_Date'] = pd.to_datetime(df.Discharge_Date)"
   ]
  },
  {
   "cell_type": "markdown",
   "id": "787080ee",
   "metadata": {},
   "source": [
    "### Encoding data to use for model prediction"
   ]
  },
  {
   "cell_type": "code",
   "execution_count": 18,
   "id": "f133cfea",
   "metadata": {},
   "outputs": [],
   "source": [
    "for column in df.columns:\n",
    "    if df[column].dtype == 'object':\n",
    "        df[column] = encoder.fit_transform(df[column])"
   ]
  },
  {
   "cell_type": "markdown",
   "id": "db2b5c8d",
   "metadata": {},
   "source": [
    "### Data splitting"
   ]
  },
  {
   "cell_type": "code",
   "execution_count": 19,
   "id": "38cc406d",
   "metadata": {},
   "outputs": [],
   "source": [
    "X = df[['Medical_Condition','Medication','Gender','Doctor','Billing_Amount','Admission_Type','AgeRange','Hospital']]\n",
    "y = df['Test_Results']"
   ]
  },
  {
   "cell_type": "code",
   "execution_count": 20,
   "id": "faa2ffde",
   "metadata": {},
   "outputs": [],
   "source": [
    "X = scaler.fit_transform(X)"
   ]
  },
  {
   "cell_type": "markdown",
   "id": "1b0f2dea",
   "metadata": {},
   "source": [
    "# Models"
   ]
  },
  {
   "cell_type": "markdown",
   "id": "4b8ad54f",
   "metadata": {},
   "source": [
    "### SVC"
   ]
  },
  {
   "cell_type": "code",
   "execution_count": 21,
   "id": "6b720456",
   "metadata": {},
   "outputs": [],
   "source": [
    "SVM_Pred = svm_model.predict(X)"
   ]
  },
  {
   "cell_type": "code",
   "execution_count": 22,
   "id": "bf4b287a",
   "metadata": {
    "scrolled": true
   },
   "outputs": [
    {
     "name": "stdout",
     "output_type": "stream",
     "text": [
      "              precision    recall  f1-score   support\n",
      "\n",
      "           0       0.54      0.49      0.51       351\n",
      "           1       0.48      0.53      0.51       317\n",
      "\n",
      "    accuracy                           0.51       668\n",
      "   macro avg       0.51      0.51      0.51       668\n",
      "weighted avg       0.51      0.51      0.51       668\n",
      "\n"
     ]
    }
   ],
   "source": [
    "print(classification_report(y,SVM_Pred))"
   ]
  },
  {
   "cell_type": "code",
   "execution_count": 23,
   "id": "205fd8ac",
   "metadata": {},
   "outputs": [],
   "source": [
    "SVC_accuracy = accuracy_score(y, SVM_Pred)\n",
    "SVC_fscore = f1_score(y, SVM_Pred)"
   ]
  },
  {
   "cell_type": "markdown",
   "id": "6263323c",
   "metadata": {},
   "source": [
    "### Decision Tree"
   ]
  },
  {
   "cell_type": "code",
   "execution_count": 24,
   "id": "30a510e7",
   "metadata": {
    "scrolled": true
   },
   "outputs": [],
   "source": [
    "DT_Pred = DT_model.predict(X)"
   ]
  },
  {
   "cell_type": "code",
   "execution_count": 25,
   "id": "e55b8808",
   "metadata": {},
   "outputs": [
    {
     "name": "stdout",
     "output_type": "stream",
     "text": [
      "              precision    recall  f1-score   support\n",
      "\n",
      "           0       0.53      0.99      0.69       351\n",
      "           1       0.67      0.02      0.04       317\n",
      "\n",
      "    accuracy                           0.53       668\n",
      "   macro avg       0.60      0.51      0.36       668\n",
      "weighted avg       0.59      0.53      0.38       668\n",
      "\n"
     ]
    }
   ],
   "source": [
    "print(classification_report(y,DT_Pred))"
   ]
  },
  {
   "cell_type": "code",
   "execution_count": 26,
   "id": "10126ce6",
   "metadata": {},
   "outputs": [],
   "source": [
    "DT_accuracy = accuracy_score(y, DT_Pred)\n",
    "DT_fscore = f1_score(y, DT_Pred)"
   ]
  },
  {
   "cell_type": "markdown",
   "id": "00beb43f",
   "metadata": {},
   "source": [
    "### Logistic Regression"
   ]
  },
  {
   "cell_type": "code",
   "execution_count": 27,
   "id": "5404c0b1",
   "metadata": {},
   "outputs": [],
   "source": [
    "LR_ypred = LR_model.predict(X)"
   ]
  },
  {
   "cell_type": "code",
   "execution_count": 28,
   "id": "769b3c71",
   "metadata": {},
   "outputs": [
    {
     "name": "stdout",
     "output_type": "stream",
     "text": [
      "              precision    recall  f1-score   support\n",
      "\n",
      "           0       0.53      0.63      0.58       351\n",
      "           1       0.49      0.38      0.43       317\n",
      "\n",
      "    accuracy                           0.51       668\n",
      "   macro avg       0.51      0.51      0.50       668\n",
      "weighted avg       0.51      0.51      0.51       668\n",
      "\n"
     ]
    }
   ],
   "source": [
    "print(classification_report(y,LR_ypred))"
   ]
  },
  {
   "cell_type": "code",
   "execution_count": 29,
   "id": "2fd7d83b",
   "metadata": {},
   "outputs": [],
   "source": [
    "LR_accuracy = accuracy_score(y, LR_ypred)\n",
    "LR_fscore = f1_score(y, LR_ypred)"
   ]
  },
  {
   "cell_type": "markdown",
   "id": "306402c8",
   "metadata": {},
   "source": [
    "# Models Comparison"
   ]
  },
  {
   "cell_type": "code",
   "execution_count": 30,
   "id": "fdaba302",
   "metadata": {},
   "outputs": [
    {
     "data": {
      "text/html": [
       "<div>\n",
       "<style scoped>\n",
       "    .dataframe tbody tr th:only-of-type {\n",
       "        vertical-align: middle;\n",
       "    }\n",
       "\n",
       "    .dataframe tbody tr th {\n",
       "        vertical-align: top;\n",
       "    }\n",
       "\n",
       "    .dataframe thead th {\n",
       "        text-align: right;\n",
       "    }\n",
       "</style>\n",
       "<table border=\"1\" class=\"dataframe\">\n",
       "  <thead>\n",
       "    <tr style=\"text-align: right;\">\n",
       "      <th></th>\n",
       "      <th>Models</th>\n",
       "      <th>Accuracy</th>\n",
       "      <th>Fscore</th>\n",
       "    </tr>\n",
       "  </thead>\n",
       "  <tbody>\n",
       "    <tr>\n",
       "      <th>0</th>\n",
       "      <td>SVC</td>\n",
       "      <td>0.508982</td>\n",
       "      <td>0.506024</td>\n",
       "    </tr>\n",
       "    <tr>\n",
       "      <th>1</th>\n",
       "      <td>Decision Tree</td>\n",
       "      <td>0.529940</td>\n",
       "      <td>0.036810</td>\n",
       "    </tr>\n",
       "    <tr>\n",
       "      <th>2</th>\n",
       "      <td>Logistic Regression</td>\n",
       "      <td>0.514970</td>\n",
       "      <td>0.429577</td>\n",
       "    </tr>\n",
       "  </tbody>\n",
       "</table>\n",
       "</div>"
      ],
      "text/plain": [
       "                Models  Accuracy    Fscore\n",
       "0                  SVC  0.508982  0.506024\n",
       "1        Decision Tree  0.529940  0.036810\n",
       "2  Logistic Regression  0.514970  0.429577"
      ]
     },
     "execution_count": 30,
     "metadata": {},
     "output_type": "execute_result"
    }
   ],
   "source": [
    "Models_Scores = pd.DataFrame({'Models':['SVC','Decision Tree','Logistic Regression'],\n",
    "             'Accuracy':[SVC_accuracy,DT_accuracy,LR_accuracy],\n",
    "             'Fscore': [SVC_fscore,DT_fscore,LR_fscore]})\n",
    "Models_Scores.head()"
   ]
  },
  {
   "cell_type": "code",
   "execution_count": 31,
   "id": "47ff169b",
   "metadata": {},
   "outputs": [
    {
     "data": {
      "image/png": "[encoded data removed]",
      "text/plain": [
       "<Figure size 500x400 with 1 Axes>"
      ]
     },
     "metadata": {},
     "output_type": "display_data"
    }
   ],
   "source": [
    "plt.figure(figsize=(5,4))\n",
    "plt.title('Models Comparison Accuracy based')\n",
    "figure = sns.barplot(x = Models_Scores['Models'],y = Models_Scores['Accuracy'],palette='ch:s=.25,rot=-.25', width=0.8)\n"
   ]
  },
  {
   "cell_type": "code",
   "execution_count": 32,
   "id": "8e0e1d09",
   "metadata": {},
   "outputs": [
    {
     "data": {
      "image/png": "[encoded data removed]",
      "text/plain": [
       "<Figure size 500x400 with 1 Axes>"
      ]
     },
     "metadata": {},
     "output_type": "display_data"
    }
   ],
   "source": [
    "plt.figure(figsize=(5,4))\n",
    "plt.title('Models Comparison Fscore based')\n",
    "figure = sns.barplot(x = Models_Scores['Models'],y = Models_Scores['Fscore'],palette='ch:s=.25,rot=-.25', width=0.8)"
   ]
  },
  {
   "cell_type": "markdown",
   "id": "32d9e3b4",
   "metadata": {},
   "source": [
    "**DT preformed slightly better that SVC in terms of accuracy on unseen data yet the SVC maintained it's top rank as the best in terms of fscore** "
   ]
  },
  {
   "cell_type": "code",
   "execution_count": null,
   "id": "1531c0cb",
   "metadata": {},
   "outputs": [],
   "source": []
  }
 ],
 "metadata": {
  "kernelspec": {
   "display_name": "Python 3 (ipykernel)",
   "language": "python",
   "name": "python3"
  },
  "language_info": {
   "codemirror_mode": {
    "name": "ipython",
    "version": 3
   },
   "file_extension": ".py",
   "mimetype": "text/x-python",
   "name": "python",
   "nbconvert_exporter": "python",
   "pygments_lexer": "ipython3",
   "version": "3.10.9"
  }
 },
 "nbformat": 4,
 "nbformat_minor": 5
}
